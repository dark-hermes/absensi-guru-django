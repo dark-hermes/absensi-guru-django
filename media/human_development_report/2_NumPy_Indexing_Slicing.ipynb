{
 "cells": [
  {
   "cell_type": "markdown",
   "metadata": {},
   "source": [
    "<a href='https://nevtik.org'><img src='https://drive.google.com/uc?export=view&id=1_IP9MG7FF0p0Ah9q4ptR46StNwCSKFJV' style= width:100px></a>"
   ]
  },
  {
   "cell_type": "markdown",
   "metadata": {},
   "source": [
    "# NumPy Indexing, Slicing, and Selection\n",
    "Kali ini kita akan belajar bagaimana cara menyeleksi sebuah atau beberapa elemen dari suatu array"
   ]
  },
  {
   "cell_type": "code",
   "execution_count": 1,
   "metadata": {},
   "outputs": [],
   "source": [
    "import numpy as np"
   ]
  },
  {
   "cell_type": "code",
   "execution_count": 15,
   "metadata": {},
   "outputs": [
    {
     "data": {
      "text/plain": [
       "array([ 5., 10., 15., 20., 25., 30., 35., 40., 45., 50.])"
      ]
     },
     "execution_count": 15,
     "metadata": {},
     "output_type": "execute_result"
    }
   ],
   "source": [
    "# Creating sample array\n",
    "arr = np.linspace(5,50,10)\n",
    "arr"
   ]
  },
  {
   "cell_type": "markdown",
   "metadata": {},
   "source": [
    "## Bracket Indexing and Selection\n",
    "Cara paling *simple* untuk memilih satu atau beberapa elemen dari array, caranya sama dengan list di Python biasa"
   ]
  },
  {
   "cell_type": "code",
   "execution_count": 16,
   "metadata": {},
   "outputs": [
    {
     "name": "stdout",
     "output_type": "stream",
     "text": [
      "45.0\n",
      "[20. 25.]\n",
      "[ 5. 15. 25. 35.]\n"
     ]
    }
   ],
   "source": [
    "# Get a value at an index\n",
    "print(arr[8])\n",
    "\n",
    "# Get values in a range (1)\n",
    "print(arr[3:5])\n",
    "\n",
    "# Get values in a range (2)\n",
    "print(arr[0:7:2])\n",
    "\n"
   ]
  },
  {
   "cell_type": "markdown",
   "metadata": {},
   "source": [
    "## Broadcasting\n",
    "Salah satu kelebihan NumPy array dari pada list biasa adalah kemampuannya untuk melakukan *broadcasting assignment*"
   ]
  },
  {
   "cell_type": "code",
   "execution_count": 17,
   "metadata": {},
   "outputs": [
    {
     "name": "stdout",
     "output_type": "stream",
     "text": [
      "Array sebelum broadcasting assignment\t:\n",
      " [ 5. 10. 15. 20. 25. 30. 35. 40. 45. 50.]\n",
      "\n",
      "Array setelah broadcasting assignment\t:\n",
      " [  5.  10. 100.  20. 100.  30. 100.  40. 100.  50.]\n"
     ]
    }
   ],
   "source": [
    "print(\"Array sebelum broadcasting assignment\\t:\\n\",arr)\n",
    "\n",
    "arr[2:9:2] = 100 # Assigning atau mengganti index ke 2-4 menjadi 3\n",
    "\n",
    "print(\"\\nArray setelah broadcasting assignment\\t:\\n\",arr)"
   ]
  },
  {
   "cell_type": "code",
   "execution_count": 23,
   "metadata": {},
   "outputs": [
    {
     "data": {
      "text/plain": [
       "array([ 0,  1,  2,  3,  4,  5,  6,  7,  8,  9, 10])"
      ]
     },
     "execution_count": 23,
     "metadata": {},
     "output_type": "execute_result"
    }
   ],
   "source": [
    "\"\"\"\n",
    "Sekarang kita reset terlebih dahulu\n",
    "array yang tadi dengan elemen \n",
    "yang baru agar lebih rapih\n",
    "\"\"\"\n",
    "\n",
    "arr = np.arange(0,11)\n",
    "arr"
   ]
  },
  {
   "cell_type": "markdown",
   "metadata": {},
   "source": [
    "Dalam menggunakan slicing ada hal penting yang harus diperhatikan,\n",
    "yaitu jika sebuah array terhubung dengan array lain maka setiap perubahan pada salah satu array akan mempengaruhi array yang lain"
   ]
  },
  {
   "cell_type": "code",
   "execution_count": 24,
   "metadata": {},
   "outputs": [
    {
     "data": {
      "text/plain": [
       "array([ 2,  3,  4,  5,  6,  7,  8,  9, 10])"
      ]
     },
     "execution_count": 24,
     "metadata": {},
     "output_type": "execute_result"
    }
   ],
   "source": [
    "slice_of_arr = arr[2:]\n",
    "slice_of_arr"
   ]
  },
  {
   "cell_type": "code",
   "execution_count": 25,
   "metadata": {},
   "outputs": [
    {
     "data": {
      "text/plain": [
       "array([13, 13, 13, 13, 13, 13, 13, 13, 13])"
      ]
     },
     "execution_count": 25,
     "metadata": {},
     "output_type": "execute_result"
    }
   ],
   "source": [
    "# Replace all elements of slice_of_arr to 13\n",
    "slice_of_arr[:] = 13\n",
    "slice_of_arr"
   ]
  },
  {
   "cell_type": "markdown",
   "metadata": {},
   "source": [
    "Jika kita melakukan itu, array original-nya akan ikut terpengaruh, karena variabel ```arr``` dan ```slice_of_arr``` terletak di memori yang sama pada komputer"
   ]
  },
  {
   "cell_type": "code",
   "execution_count": 28,
   "metadata": {},
   "outputs": [
    {
     "data": {
      "text/plain": [
       "array([ 0,  1,  2,  3,  4,  5,  6,  7,  8,  9, 10])"
      ]
     },
     "execution_count": 28,
     "metadata": {},
     "output_type": "execute_result"
    }
   ],
   "source": [
    "arr = np.arange(0,11)\n",
    "arr"
   ]
  },
  {
   "cell_type": "code",
   "execution_count": 29,
   "metadata": {},
   "outputs": [
    {
     "data": {
      "text/plain": [
       "array([ 2,  3,  4,  5,  6,  7,  8,  9, 10])"
      ]
     },
     "execution_count": 29,
     "metadata": {},
     "output_type": "execute_result"
    }
   ],
   "source": [
    "slice_of_arr = arr.copy()[2:]\n",
    "slice_of_arr"
   ]
  },
  {
   "cell_type": "code",
   "execution_count": 30,
   "metadata": {},
   "outputs": [
    {
     "data": {
      "text/plain": [
       "array([13, 13, 13, 13, 13, 13, 13, 13, 13])"
      ]
     },
     "execution_count": 30,
     "metadata": {},
     "output_type": "execute_result"
    }
   ],
   "source": [
    "slice_of_arr[:] = 13\n",
    "slice_of_arr"
   ]
  },
  {
   "cell_type": "markdown",
   "metadata": {},
   "source": [
    "Untuk mencegahnya kita hanya perlu menggunakan cara copy array"
   ]
  },
  {
   "cell_type": "code",
   "execution_count": 31,
   "metadata": {},
   "outputs": [
    {
     "data": {
      "text/plain": [
       "array([ 0,  1,  2,  3,  4,  5,  6,  7,  8,  9, 10])"
      ]
     },
     "execution_count": 31,
     "metadata": {},
     "output_type": "execute_result"
    }
   ],
   "source": [
    "arr"
   ]
  },
  {
   "cell_type": "markdown",
   "metadata": {},
   "source": [
    "## Indexing and Slicing a 2D array (matrix)\n",
    "Bisa dilakukan dengan 2 cara, yaitu:\n",
    "1. **arr_2d[row][column]** (list syntax)\n",
    "2. **arr_2d[row, column]** (NumPy syntax)\n",
    "\n",
    "Tapi, saya merekomendasikan untuk menggunakan cara ke-2, yaitu menggunakan koma atau NumPy syntax"
   ]
  },
  {
   "cell_type": "code",
   "execution_count": 32,
   "metadata": {},
   "outputs": [
    {
     "data": {
      "text/plain": [
       "array([[ 0,  1,  2,  3,  4],\n",
       "       [ 5,  6,  7,  8,  9],\n",
       "       [10, 11, 12, 13, 14]])"
      ]
     },
     "execution_count": 32,
     "metadata": {},
     "output_type": "execute_result"
    }
   ],
   "source": [
    "arr_1d = np.arange(0,15) # buat 1-d array dari 0-14\n",
    "arr_2d = arr_1d.reshape(3,5) # reshape menjadi 2-d array ordo 3x5\n",
    "\n",
    "# arr_2d = np.arange(0,15).reshape(3,5) <= Cara cepatnya (shortcut)\n",
    "\n",
    "arr_2d"
   ]
  },
  {
   "cell_type": "markdown",
   "metadata": {},
   "source": [
    "Sekarang kita akan melihat kelebihan dan kemudahan indexing dan slicing menggunakan koma (syntax numpy)"
   ]
  },
  {
   "cell_type": "code",
   "execution_count": 38,
   "metadata": {},
   "outputs": [
    {
     "name": "stdout",
     "output_type": "stream",
     "text": [
      "Indexing row (baris):\n",
      "[5 6 7 8 9]\n",
      "[[ 1  2]\n",
      " [ 6  7]\n",
      " [11 12]]\n",
      "[ 3  8 13]\n",
      "[ 3  8 13]\n"
     ]
    }
   ],
   "source": [
    "# Indexing row\n",
    "# mengambil baris ke-2 (=index ke-1) dan semua kolom\n",
    "print(\"Indexing row (baris):\")\n",
    "print(arr_2d[1]) # cara ke-1 (biasa)\n",
    "print(arr_2d[:, 1:3]) # cara ke-2 (NumPy)\n",
    "\n",
    "# Indexing column\n",
    "# mengambil semua baris dan hanya kolom ke-4 (=index ke-3)\n",
    "# print(\"\\nIndexing column (kolom):\")\n",
    "print(np.array([i[3] for i in arr_2d])) # cara ke-1 (biasa)\n",
    "print(arr_2d[:,3]) # cara ke-2 (NumPy)"
   ]
  },
  {
   "cell_type": "code",
   "execution_count": 41,
   "metadata": {},
   "outputs": [
    {
     "name": "stdout",
     "output_type": "stream",
     "text": [
      "13\n"
     ]
    }
   ],
   "source": [
    "# Getting individual element\n",
    "# print(arr_2d[1][3])\n",
    "print(arr_2d[2,3])"
   ]
  },
  {
   "cell_type": "code",
   "execution_count": 66,
   "metadata": {},
   "outputs": [
    {
     "data": {
      "text/plain": [
       "array([[1, 2],\n",
       "       [6, 7]])"
      ]
     },
     "execution_count": 66,
     "metadata": {},
     "output_type": "execute_result"
    }
   ],
   "source": [
    "# 2d array slicing\n",
    "# mengambil baris ke 1-2 (index 0-1) dan kolom ke 2-3 (index 1-2)\n",
    "arr_2d[:2,1:3] # atau arr_2d[0:2, 1:3]"
   ]
  },
  {
   "cell_type": "code",
   "execution_count": 43,
   "metadata": {},
   "outputs": [
    {
     "data": {
      "text/plain": [
       "array([[0, 1]])"
      ]
     },
     "execution_count": 43,
     "metadata": {},
     "output_type": "execute_result"
    }
   ],
   "source": [
    "# contoh lain (amati dan pahami)\n",
    "arr_2d[:1, :2]"
   ]
  },
  {
   "cell_type": "markdown",
   "metadata": {},
   "source": [
    "## hstack and vstack\n",
    "- hstack : digunakan untuk menumpuk array secara horizontal =>syntax: np.hstack((arr1,arr2))\n",
    "- vstack : digunakan untuk menumpuk array secara vertikal =>syntax: np.vstack((arr1,arr2))\n"
   ]
  },
  {
   "cell_type": "code",
   "execution_count": 47,
   "metadata": {},
   "outputs": [
    {
     "name": "stdout",
     "output_type": "stream",
     "text": [
      "[[1 2 3]\n",
      " [4 5 6]]\n"
     ]
    },
    {
     "data": {
      "text/plain": [
       "array([[1, 2, 3],\n",
       "       [4, 5, 6]])"
      ]
     },
     "execution_count": 47,
     "metadata": {},
     "output_type": "execute_result"
    }
   ],
   "source": [
    "arr1 = np.array([1,2,3])\n",
    "arr2 = np.array([4,5,6])\n",
    "\n",
    "print(np.vstack((arr1,arr2)))\n",
    "np.vstack((arr1,arr2))"
   ]
  },
  {
   "cell_type": "markdown",
   "metadata": {},
   "source": [
    "# GREAT JOB! \n",
    "Next to NumPy Operations"
   ]
  }
 ],
 "metadata": {
  "kernelspec": {
   "display_name": "Python 3",
   "language": "python",
   "name": "python3"
  },
  "language_info": {
   "codemirror_mode": {
    "name": "ipython",
    "version": 3
   },
   "file_extension": ".py",
   "mimetype": "text/x-python",
   "name": "python",
   "nbconvert_exporter": "python",
   "pygments_lexer": "ipython3",
   "version": "3.8.8"
  }
 },
 "nbformat": 4,
 "nbformat_minor": 4
}
