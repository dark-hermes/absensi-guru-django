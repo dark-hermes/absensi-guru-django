{
 "cells": [
  {
   "cell_type": "markdown",
   "metadata": {},
   "source": [
    "<a href='https://nevtik.org'><img src='https://drive.google.com/uc?export=view&id=1_IP9MG7FF0p0Ah9q4ptR46StNwCSKFJV' style= width:100px></a>"
   ]
  },
  {
   "cell_type": "markdown",
   "metadata": {},
   "source": [
    "# NumPy\n",
    "\n",
    "NumPy (Numerical Python) adalah library Python yang fokus pada scientific computing. NumPy memiliki kemampuan untuk membentuk objek N-dimensional array, yang mirip dengan list pada Python. Keunggulan NumPy array dibandingkan dengan list pada Python adalah konsumsi memory yang lebih kecil serta runtime yang lebih cepat. NumPy juga memudahkan kita pada Aljabar Linear, terutama operasi pada Vector (1-d array) dan Matrix (2-d array).\n",
    "\n",
    "We will only learn the **basics** of NumPy, to get started we need to install it!"
   ]
  },
  {
   "cell_type": "markdown",
   "metadata": {},
   "source": [
    "## Installation Instructions\n",
    "\n",
    "Untuk Data Science dan Machine Learning sangat direkomendasikan menginstall Python dari distribusi Anaconda untuk memastikan semua dependensi dasar (seperti NumPy) tersinkronisasi dengan penggunaan *conda install*. \n",
    "\n",
    "Jika Anaconda sudah terinstal, instal NumPy dengan membuka terminal atau Anaconda Prompt (untuk Windows), lalu ketik:\n",
    "    \n",
    "    conda install numpy\n",
    "    \n",
    "**If you do not have Anaconda and can not install it, please refer to [Numpy's official documentation on various installation instructions.](http://docs.scipy.org/doc/numpy-1.10.1/user/install.html)**"
   ]
  },
  {
   "cell_type": "markdown",
   "metadata": {},
   "source": [
    "## Using NumPY\n",
    "Once you've installed NumPy you can import it as a library:"
   ]
  },
  {
   "cell_type": "code",
   "execution_count": 1,
   "metadata": {},
   "outputs": [],
   "source": [
    "# run this cell (shift + enter)\n",
    "import numpy as np"
   ]
  },
  {
   "cell_type": "markdown",
   "metadata": {},
   "source": [
    "Numpy memiliki banyak *built-in functions* dan kapabilitas. Kita ga perlu tahu semuanya, tapi kita akan lebih fokus untuk mempelajari materi yang palng penting dari NumPy, yaitu:\n",
    "- Vektor\n",
    "- Array\n",
    "- Matriks\n",
    "- Number generation"
   ]
  },
  {
   "cell_type": "markdown",
   "metadata": {},
   "source": [
    "# Numpy Arrays\n",
    "NumPy arrays adalah hal utama untuk kita menggunakan NumPy. NumPy arrays terbagi menjadi 2 jenis, yaitu:\n",
    "- Vektor&nbsp;&nbsp;&nbsp;&nbsp;&nbsp;&nbsp;: Array yang hanya memiliki 1 dimensi (1-d array)\n",
    "- Matriks&nbsp;&nbsp;&nbsp;&nbsp;&nbsp;: Array 2 dimensi (2-d array)\n",
    "\n",
    "(**nb : sebuah matriks juga bisa hanya memiliki 1 baris dan 1 kolom**)\n"
   ]
  },
  {
   "cell_type": "markdown",
   "metadata": {},
   "source": [
    "## Vektor dan Matriks dalam Matematika\n",
    "\n",
    "<img src='https://drive.google.com/uc?export=view&id=13Yz4BHwwdp8pD61qAx91JfQ8PIDHzME0' style= width:250px>\n",
    "\n",
    "<img src='https://drive.google.com/uc?export=view&id=1JDXe74ZbwkT8bOjRWsEAO7t2xp43PsIA' style= width:300px>\n",
    "\n",
    "<img src='https://drive.google.com/uc?export=view&id=1IfurOLRVJHCMbrAqTkOt3YjxjNMheDmI' style= width:400px>\n"
   ]
  },
  {
   "cell_type": "markdown",
   "metadata": {},
   "source": [
    "- Vektor : Hanya mempunyai 1 baris atau 1 kolom, **identik dengan tipe data list pada Python**\n",
    "- Matriks : Mempunyai beberapa baris (vertikal/menurun) dan kolom (horizontal/mendatar), cara membacanya adalah **baris x kolom**, **identik dengan nested list (list di dalam list) pada Python**\n",
    "\n",
    "Baris x kolom dibaca ORDO, misal :\n",
    "- Matriks nol pada gambar diatas mempunyai **ordo 2x2**\n",
    "- Matriks persegi pada gambar diatas mempunyai **ordo 4x4**"
   ]
  },
  {
   "cell_type": "markdown",
   "metadata": {},
   "source": [
    "## Creating NumPy Arrays\n",
    "### From a Python List\n",
    "\n",
    "Kita bisa membuat array dengan cara menggunakan atau mengkonversi list dari Python"
   ]
  },
  {
   "cell_type": "code",
   "execution_count": 6,
   "metadata": {},
   "outputs": [
    {
     "data": {
      "text/plain": [
       "list"
      ]
     },
     "execution_count": 6,
     "metadata": {},
     "output_type": "execute_result"
    }
   ],
   "source": [
    "list_python = [1,2,3,4,5,6]\n",
    "\n",
    "# tampilkan output untuk mengecek dengan cara:\n",
    "# print(my_list)\n",
    "# atau\n",
    "# my_list\n",
    "\n",
    "type(list_python)"
   ]
  },
  {
   "cell_type": "markdown",
   "metadata": {},
   "source": [
    "Gunakan method .array() untuk mengkonversi list menjadi array\n",
    "dengan syntax\n",
    "```python\n",
    "np.array(list)\n",
    "```"
   ]
  },
  {
   "cell_type": "code",
   "execution_count": 8,
   "metadata": {},
   "outputs": [
    {
     "name": "stdout",
     "output_type": "stream",
     "text": [
      "[1 2 3 4 5 6]\n",
      "<class 'numpy.ndarray'>\n"
     ]
    }
   ],
   "source": [
    "array_1d = np.array(list_python)\n",
    "arr_1d = np.array([4,5,6,7,8,9]) # bisa juga langsung\n",
    "\n",
    "print(array_1d)\n",
    "print(type(array_1d))"
   ]
  },
  {
   "cell_type": "code",
   "execution_count": 10,
   "metadata": {},
   "outputs": [
    {
     "data": {
      "text/plain": [
       "[[13, 5, 4], [4, 4, 30], [11, 22, 4]]"
      ]
     },
     "execution_count": 10,
     "metadata": {},
     "output_type": "execute_result"
    }
   ],
   "source": [
    "# Jumlah elemen di setiap list harus sama\n",
    "my_matrix = [[13,5,4],[4,4,30],[11,22,4]] # benar\n",
    "my_matriks = [[1,2,3],[4,5],[6,7,8,9],[10]] # salah\n",
    "\n",
    "my_matrix"
   ]
  },
  {
   "cell_type": "code",
   "execution_count": 16,
   "metadata": {},
   "outputs": [
    {
     "data": {
      "text/plain": [
       "array([[ 1,  2,  3,  4],\n",
       "       [ 5,  6,  7,  8],\n",
       "       [ 9, 10, 11, 12],\n",
       "       [13, 14, 15, 16],\n",
       "       [17, 18, 19, 20]])"
      ]
     },
     "execution_count": 16,
     "metadata": {},
     "output_type": "execute_result"
    }
   ],
   "source": [
    "array_2d  = np.array(my_matrix) # akan menghasilkan matriks 3x3\n",
    "arr_2d = np.array([[1,2,3,4],[5,6,7,8],[9,10,11,12],[13,14,15,16],[17,18,19,20]]) # akan menghasilkan matriks 5x4\n",
    "\n",
    "arr_2d"
   ]
  },
  {
   "cell_type": "markdown",
   "metadata": {},
   "source": [
    "## NumPy Methods\n",
    "Ada banyak cara untuk membuat array dengan NumPy method"
   ]
  },
  {
   "cell_type": "markdown",
   "metadata": {},
   "source": [
    "### arange\n",
    "Membuat array berdasarkan range (seperti range() di built-in fuction Python)\n",
    "\n",
    "**syntax**:\n",
    "```python\n",
    "np.arange(start,stop,step=1)\n",
    "```\n",
    "nilai *default* step adalah 1"
   ]
  },
  {
   "cell_type": "code",
   "execution_count": 21,
   "metadata": {},
   "outputs": [
    {
     "name": "stdout",
     "output_type": "stream",
     "text": [
      "[0 1 2 3 4 5 6 7 8 9]\n"
     ]
    }
   ],
   "source": [
    "print(np.arange(0,10))"
   ]
  },
  {
   "cell_type": "code",
   "execution_count": 22,
   "metadata": {},
   "outputs": [
    {
     "name": "stdout",
     "output_type": "stream",
     "text": [
      "[ 0  2  4  6  8 10 12 14 16 18 20]\n"
     ]
    }
   ],
   "source": [
    "even_num = np.arange(0,21,2)\n",
    "print(even_num)"
   ]
  },
  {
   "cell_type": "markdown",
   "metadata": {},
   "source": [
    "### zeros and ones\n",
    "Membuat array berisi angka 0 atau 1"
   ]
  },
  {
   "cell_type": "code",
   "execution_count": 25,
   "metadata": {},
   "outputs": [
    {
     "data": {
      "text/plain": [
       "array([0., 0., 0., 0., 0.])"
      ]
     },
     "execution_count": 25,
     "metadata": {},
     "output_type": "execute_result"
    }
   ],
   "source": [
    "np.zeros(5) # 1-d array atau vektor"
   ]
  },
  {
   "cell_type": "code",
   "execution_count": 31,
   "metadata": {},
   "outputs": [
    {
     "data": {
      "text/plain": [
       "array([[0., 0., 0., ..., 0., 0., 0.],\n",
       "       [0., 0., 0., ..., 0., 0., 0.],\n",
       "       [0., 0., 0., ..., 0., 0., 0.],\n",
       "       ...,\n",
       "       [0., 0., 0., ..., 0., 0., 0.],\n",
       "       [0., 0., 0., ..., 0., 0., 0.],\n",
       "       [0., 0., 0., ..., 0., 0., 0.]])"
      ]
     },
     "execution_count": 31,
     "metadata": {},
     "output_type": "execute_result"
    }
   ],
   "source": [
    "np.zeros((30,50)) # 2-d array atau matriks"
   ]
  },
  {
   "cell_type": "code",
   "execution_count": 12,
   "metadata": {},
   "outputs": [
    {
     "data": {
      "text/plain": [
       "array([1., 1., 1.])"
      ]
     },
     "execution_count": 12,
     "metadata": {},
     "output_type": "execute_result"
    }
   ],
   "source": [
    "np.ones(3)"
   ]
  },
  {
   "cell_type": "code",
   "execution_count": 13,
   "metadata": {},
   "outputs": [
    {
     "data": {
      "text/plain": [
       "array([[1., 1., 1., 1., 1.],\n",
       "       [1., 1., 1., 1., 1.],\n",
       "       [1., 1., 1., 1., 1.],\n",
       "       [1., 1., 1., 1., 1.],\n",
       "       [1., 1., 1., 1., 1.]])"
      ]
     },
     "execution_count": 13,
     "metadata": {},
     "output_type": "execute_result"
    }
   ],
   "source": [
    "np.ones((5,5))"
   ]
  },
  {
   "cell_type": "markdown",
   "metadata": {},
   "source": [
    "### linspace\n",
    "Return array angka dengan interval yang spesifik\n",
    "\n",
    "**syntax**:\n",
    "```python\n",
    "np.linspace(start,stop,num=50)\n",
    "```\n",
    "nilai default *num* adalah 50"
   ]
  },
  {
   "cell_type": "code",
   "execution_count": 36,
   "metadata": {},
   "outputs": [
    {
     "data": {
      "text/plain": [
       "array([  50.        ,   54.77386935,   59.54773869,   64.32160804,\n",
       "         69.09547739,   73.86934673,   78.64321608,   83.41708543,\n",
       "         88.19095477,   92.96482412,   97.73869347,  102.51256281,\n",
       "        107.28643216,  112.06030151,  116.83417085,  121.6080402 ,\n",
       "        126.38190955,  131.15577889,  135.92964824,  140.70351759,\n",
       "        145.47738693,  150.25125628,  155.02512563,  159.79899497,\n",
       "        164.57286432,  169.34673367,  174.12060302,  178.89447236,\n",
       "        183.66834171,  188.44221106,  193.2160804 ,  197.98994975,\n",
       "        202.7638191 ,  207.53768844,  212.31155779,  217.08542714,\n",
       "        221.85929648,  226.63316583,  231.40703518,  236.18090452,\n",
       "        240.95477387,  245.72864322,  250.50251256,  255.27638191,\n",
       "        260.05025126,  264.8241206 ,  269.59798995,  274.3718593 ,\n",
       "        279.14572864,  283.91959799,  288.69346734,  293.46733668,\n",
       "        298.24120603,  303.01507538,  307.78894472,  312.56281407,\n",
       "        317.33668342,  322.11055276,  326.88442211,  331.65829146,\n",
       "        336.4321608 ,  341.20603015,  345.9798995 ,  350.75376884,\n",
       "        355.52763819,  360.30150754,  365.07537688,  369.84924623,\n",
       "        374.62311558,  379.39698492,  384.17085427,  388.94472362,\n",
       "        393.71859296,  398.49246231,  403.26633166,  408.04020101,\n",
       "        412.81407035,  417.5879397 ,  422.36180905,  427.13567839,\n",
       "        431.90954774,  436.68341709,  441.45728643,  446.23115578,\n",
       "        451.00502513,  455.77889447,  460.55276382,  465.32663317,\n",
       "        470.10050251,  474.87437186,  479.64824121,  484.42211055,\n",
       "        489.1959799 ,  493.96984925,  498.74371859,  503.51758794,\n",
       "        508.29145729,  513.06532663,  517.83919598,  522.61306533,\n",
       "        527.38693467,  532.16080402,  536.93467337,  541.70854271,\n",
       "        546.48241206,  551.25628141,  556.03015075,  560.8040201 ,\n",
       "        565.57788945,  570.35175879,  575.12562814,  579.89949749,\n",
       "        584.67336683,  589.44723618,  594.22110553,  598.99497487,\n",
       "        603.76884422,  608.54271357,  613.31658291,  618.09045226,\n",
       "        622.86432161,  627.63819095,  632.4120603 ,  637.18592965,\n",
       "        641.95979899,  646.73366834,  651.50753769,  656.28140704,\n",
       "        661.05527638,  665.82914573,  670.60301508,  675.37688442,\n",
       "        680.15075377,  684.92462312,  689.69849246,  694.47236181,\n",
       "        699.24623116,  704.0201005 ,  708.79396985,  713.5678392 ,\n",
       "        718.34170854,  723.11557789,  727.88944724,  732.66331658,\n",
       "        737.43718593,  742.21105528,  746.98492462,  751.75879397,\n",
       "        756.53266332,  761.30653266,  766.08040201,  770.85427136,\n",
       "        775.6281407 ,  780.40201005,  785.1758794 ,  789.94974874,\n",
       "        794.72361809,  799.49748744,  804.27135678,  809.04522613,\n",
       "        813.81909548,  818.59296482,  823.36683417,  828.14070352,\n",
       "        832.91457286,  837.68844221,  842.46231156,  847.2361809 ,\n",
       "        852.01005025,  856.7839196 ,  861.55778894,  866.33165829,\n",
       "        871.10552764,  875.87939698,  880.65326633,  885.42713568,\n",
       "        890.20100503,  894.97487437,  899.74874372,  904.52261307,\n",
       "        909.29648241,  914.07035176,  918.84422111,  923.61809045,\n",
       "        928.3919598 ,  933.16582915,  937.93969849,  942.71356784,\n",
       "        947.48743719,  952.26130653,  957.03517588,  961.80904523,\n",
       "        966.58291457,  971.35678392,  976.13065327,  980.90452261,\n",
       "        985.67839196,  990.45226131,  995.22613065, 1000.        ])"
      ]
     },
     "execution_count": 36,
     "metadata": {},
     "output_type": "execute_result"
    }
   ],
   "source": [
    "np.linspace(50, 1000, 200)# menghasilkan array 50 angka dengan interval 1-25"
   ]
  },
  {
   "cell_type": "code",
   "execution_count": 30,
   "metadata": {},
   "outputs": [
    {
     "data": {
      "text/plain": [
       "array([ 0. ,  2.5,  5. ,  7.5, 10. ])"
      ]
     },
     "execution_count": 30,
     "metadata": {},
     "output_type": "execute_result"
    }
   ],
   "source": [
    "np.linspace(0,10,5) # membuat array 5 angka dengan interval 0-10"
   ]
  },
  {
   "cell_type": "code",
   "execution_count": 33,
   "metadata": {},
   "outputs": [
    {
     "data": {
      "text/plain": [
       "array([ 10.        ,  10.18036072,  10.36072144,  10.54108216,\n",
       "        10.72144289,  10.90180361,  11.08216433,  11.26252505,\n",
       "        11.44288577,  11.62324649,  11.80360721,  11.98396794,\n",
       "        12.16432866,  12.34468938,  12.5250501 ,  12.70541082,\n",
       "        12.88577154,  13.06613226,  13.24649299,  13.42685371,\n",
       "        13.60721443,  13.78757515,  13.96793587,  14.14829659,\n",
       "        14.32865731,  14.50901804,  14.68937876,  14.86973948,\n",
       "        15.0501002 ,  15.23046092,  15.41082164,  15.59118236,\n",
       "        15.77154309,  15.95190381,  16.13226453,  16.31262525,\n",
       "        16.49298597,  16.67334669,  16.85370741,  17.03406814,\n",
       "        17.21442886,  17.39478958,  17.5751503 ,  17.75551102,\n",
       "        17.93587174,  18.11623246,  18.29659319,  18.47695391,\n",
       "        18.65731463,  18.83767535,  19.01803607,  19.19839679,\n",
       "        19.37875752,  19.55911824,  19.73947896,  19.91983968,\n",
       "        20.1002004 ,  20.28056112,  20.46092184,  20.64128257,\n",
       "        20.82164329,  21.00200401,  21.18236473,  21.36272545,\n",
       "        21.54308617,  21.72344689,  21.90380762,  22.08416834,\n",
       "        22.26452906,  22.44488978,  22.6252505 ,  22.80561122,\n",
       "        22.98597194,  23.16633267,  23.34669339,  23.52705411,\n",
       "        23.70741483,  23.88777555,  24.06813627,  24.24849699,\n",
       "        24.42885772,  24.60921844,  24.78957916,  24.96993988,\n",
       "        25.1503006 ,  25.33066132,  25.51102204,  25.69138277,\n",
       "        25.87174349,  26.05210421,  26.23246493,  26.41282565,\n",
       "        26.59318637,  26.77354709,  26.95390782,  27.13426854,\n",
       "        27.31462926,  27.49498998,  27.6753507 ,  27.85571142,\n",
       "        28.03607214,  28.21643287,  28.39679359,  28.57715431,\n",
       "        28.75751503,  28.93787575,  29.11823647,  29.29859719,\n",
       "        29.47895792,  29.65931864,  29.83967936,  30.02004008,\n",
       "        30.2004008 ,  30.38076152,  30.56112224,  30.74148297,\n",
       "        30.92184369,  31.10220441,  31.28256513,  31.46292585,\n",
       "        31.64328657,  31.82364729,  32.00400802,  32.18436874,\n",
       "        32.36472946,  32.54509018,  32.7254509 ,  32.90581162,\n",
       "        33.08617234,  33.26653307,  33.44689379,  33.62725451,\n",
       "        33.80761523,  33.98797595,  34.16833667,  34.34869739,\n",
       "        34.52905812,  34.70941884,  34.88977956,  35.07014028,\n",
       "        35.250501  ,  35.43086172,  35.61122244,  35.79158317,\n",
       "        35.97194389,  36.15230461,  36.33266533,  36.51302605,\n",
       "        36.69338677,  36.87374749,  37.05410822,  37.23446894,\n",
       "        37.41482966,  37.59519038,  37.7755511 ,  37.95591182,\n",
       "        38.13627255,  38.31663327,  38.49699399,  38.67735471,\n",
       "        38.85771543,  39.03807615,  39.21843687,  39.3987976 ,\n",
       "        39.57915832,  39.75951904,  39.93987976,  40.12024048,\n",
       "        40.3006012 ,  40.48096192,  40.66132265,  40.84168337,\n",
       "        41.02204409,  41.20240481,  41.38276553,  41.56312625,\n",
       "        41.74348697,  41.9238477 ,  42.10420842,  42.28456914,\n",
       "        42.46492986,  42.64529058,  42.8256513 ,  43.00601202,\n",
       "        43.18637275,  43.36673347,  43.54709419,  43.72745491,\n",
       "        43.90781563,  44.08817635,  44.26853707,  44.4488978 ,\n",
       "        44.62925852,  44.80961924,  44.98997996,  45.17034068,\n",
       "        45.3507014 ,  45.53106212,  45.71142285,  45.89178357,\n",
       "        46.07214429,  46.25250501,  46.43286573,  46.61322645,\n",
       "        46.79358717,  46.9739479 ,  47.15430862,  47.33466934,\n",
       "        47.51503006,  47.69539078,  47.8757515 ,  48.05611222,\n",
       "        48.23647295,  48.41683367,  48.59719439,  48.77755511,\n",
       "        48.95791583,  49.13827655,  49.31863727,  49.498998  ,\n",
       "        49.67935872,  49.85971944,  50.04008016,  50.22044088,\n",
       "        50.4008016 ,  50.58116232,  50.76152305,  50.94188377,\n",
       "        51.12224449,  51.30260521,  51.48296593,  51.66332665,\n",
       "        51.84368737,  52.0240481 ,  52.20440882,  52.38476954,\n",
       "        52.56513026,  52.74549098,  52.9258517 ,  53.10621242,\n",
       "        53.28657315,  53.46693387,  53.64729459,  53.82765531,\n",
       "        54.00801603,  54.18837675,  54.36873747,  54.5490982 ,\n",
       "        54.72945892,  54.90981964,  55.09018036,  55.27054108,\n",
       "        55.4509018 ,  55.63126253,  55.81162325,  55.99198397,\n",
       "        56.17234469,  56.35270541,  56.53306613,  56.71342685,\n",
       "        56.89378758,  57.0741483 ,  57.25450902,  57.43486974,\n",
       "        57.61523046,  57.79559118,  57.9759519 ,  58.15631263,\n",
       "        58.33667335,  58.51703407,  58.69739479,  58.87775551,\n",
       "        59.05811623,  59.23847695,  59.41883768,  59.5991984 ,\n",
       "        59.77955912,  59.95991984,  60.14028056,  60.32064128,\n",
       "        60.501002  ,  60.68136273,  60.86172345,  61.04208417,\n",
       "        61.22244489,  61.40280561,  61.58316633,  61.76352705,\n",
       "        61.94388778,  62.1242485 ,  62.30460922,  62.48496994,\n",
       "        62.66533066,  62.84569138,  63.0260521 ,  63.20641283,\n",
       "        63.38677355,  63.56713427,  63.74749499,  63.92785571,\n",
       "        64.10821643,  64.28857715,  64.46893788,  64.6492986 ,\n",
       "        64.82965932,  65.01002004,  65.19038076,  65.37074148,\n",
       "        65.5511022 ,  65.73146293,  65.91182365,  66.09218437,\n",
       "        66.27254509,  66.45290581,  66.63326653,  66.81362725,\n",
       "        66.99398798,  67.1743487 ,  67.35470942,  67.53507014,\n",
       "        67.71543086,  67.89579158,  68.0761523 ,  68.25651303,\n",
       "        68.43687375,  68.61723447,  68.79759519,  68.97795591,\n",
       "        69.15831663,  69.33867735,  69.51903808,  69.6993988 ,\n",
       "        69.87975952,  70.06012024,  70.24048096,  70.42084168,\n",
       "        70.6012024 ,  70.78156313,  70.96192385,  71.14228457,\n",
       "        71.32264529,  71.50300601,  71.68336673,  71.86372745,\n",
       "        72.04408818,  72.2244489 ,  72.40480962,  72.58517034,\n",
       "        72.76553106,  72.94589178,  73.12625251,  73.30661323,\n",
       "        73.48697395,  73.66733467,  73.84769539,  74.02805611,\n",
       "        74.20841683,  74.38877756,  74.56913828,  74.749499  ,\n",
       "        74.92985972,  75.11022044,  75.29058116,  75.47094188,\n",
       "        75.65130261,  75.83166333,  76.01202405,  76.19238477,\n",
       "        76.37274549,  76.55310621,  76.73346693,  76.91382766,\n",
       "        77.09418838,  77.2745491 ,  77.45490982,  77.63527054,\n",
       "        77.81563126,  77.99599198,  78.17635271,  78.35671343,\n",
       "        78.53707415,  78.71743487,  78.89779559,  79.07815631,\n",
       "        79.25851703,  79.43887776,  79.61923848,  79.7995992 ,\n",
       "        79.97995992,  80.16032064,  80.34068136,  80.52104208,\n",
       "        80.70140281,  80.88176353,  81.06212425,  81.24248497,\n",
       "        81.42284569,  81.60320641,  81.78356713,  81.96392786,\n",
       "        82.14428858,  82.3246493 ,  82.50501002,  82.68537074,\n",
       "        82.86573146,  83.04609218,  83.22645291,  83.40681363,\n",
       "        83.58717435,  83.76753507,  83.94789579,  84.12825651,\n",
       "        84.30861723,  84.48897796,  84.66933868,  84.8496994 ,\n",
       "        85.03006012,  85.21042084,  85.39078156,  85.57114228,\n",
       "        85.75150301,  85.93186373,  86.11222445,  86.29258517,\n",
       "        86.47294589,  86.65330661,  86.83366733,  87.01402806,\n",
       "        87.19438878,  87.3747495 ,  87.55511022,  87.73547094,\n",
       "        87.91583166,  88.09619238,  88.27655311,  88.45691383,\n",
       "        88.63727455,  88.81763527,  88.99799599,  89.17835671,\n",
       "        89.35871743,  89.53907816,  89.71943888,  89.8997996 ,\n",
       "        90.08016032,  90.26052104,  90.44088176,  90.62124248,\n",
       "        90.80160321,  90.98196393,  91.16232465,  91.34268537,\n",
       "        91.52304609,  91.70340681,  91.88376754,  92.06412826,\n",
       "        92.24448898,  92.4248497 ,  92.60521042,  92.78557114,\n",
       "        92.96593186,  93.14629259,  93.32665331,  93.50701403,\n",
       "        93.68737475,  93.86773547,  94.04809619,  94.22845691,\n",
       "        94.40881764,  94.58917836,  94.76953908,  94.9498998 ,\n",
       "        95.13026052,  95.31062124,  95.49098196,  95.67134269,\n",
       "        95.85170341,  96.03206413,  96.21242485,  96.39278557,\n",
       "        96.57314629,  96.75350701,  96.93386774,  97.11422846,\n",
       "        97.29458918,  97.4749499 ,  97.65531062,  97.83567134,\n",
       "        98.01603206,  98.19639279,  98.37675351,  98.55711423,\n",
       "        98.73747495,  98.91783567,  99.09819639,  99.27855711,\n",
       "        99.45891784,  99.63927856,  99.81963928, 100.        ])"
      ]
     },
     "execution_count": 33,
     "metadata": {},
     "output_type": "execute_result"
    }
   ],
   "source": [
    "np.linspace(10,100,500) # membuat array 500 angka dengan interval 10-100"
   ]
  },
  {
   "cell_type": "markdown",
   "metadata": {},
   "source": [
    "### eye\n",
    "Membuat matriks identitas"
   ]
  },
  {
   "cell_type": "code",
   "execution_count": 38,
   "metadata": {},
   "outputs": [
    {
     "name": "stdout",
     "output_type": "stream",
     "text": [
      "[[1. 0. 0. 0.]\n",
      " [0. 1. 0. 0.]\n",
      " [0. 0. 1. 0.]\n",
      " [0. 0. 0. 1.]]\n",
      "\n",
      "[[1. 0. 0. 0. 0.]\n",
      " [0. 1. 0. 0. 0.]\n",
      " [0. 0. 1. 0. 0.]\n",
      " [0. 0. 0. 1. 0.]\n",
      " [0. 0. 0. 0. 1.]]\n"
     ]
    }
   ],
   "source": [
    "print(np.eye(4))\n",
    "print()\n",
    "print(np.eye(5))"
   ]
  },
  {
   "cell_type": "markdown",
   "metadata": {},
   "source": [
    "## Random\n",
    "Numpy juga punya banyak cara untuk membuat array angka random:\n",
    "\n",
    "### rand\n",
    "Return array angka random dengan interval 0-1"
   ]
  },
  {
   "cell_type": "code",
   "execution_count": 37,
   "metadata": {},
   "outputs": [
    {
     "name": "stdout",
     "output_type": "stream",
     "text": [
      "[0.47771411 0.49743724]\n",
      "[0.82161968 0.42295976 0.99548827 0.3759756 ]\n"
     ]
    }
   ],
   "source": [
    "# membuat 1-d array atau vektor\n",
    "print(np.random.rand(2))\n",
    "print(np.random.rand(4))"
   ]
  },
  {
   "cell_type": "code",
   "execution_count": 38,
   "metadata": {},
   "outputs": [
    {
     "name": "stdout",
     "output_type": "stream",
     "text": [
      "[[0.37753407 0.1920606 ]\n",
      " [0.11653374 0.36253656]]\n",
      "\n",
      "[[0.68154015 0.09960092 0.60849054 0.91711158]\n",
      " [0.61419427 0.40573453 0.29056192 0.97847041]\n",
      " [0.91738389 0.67458102 0.46213213 0.80487363]\n",
      " [0.00223217 0.7166541  0.96118636 0.44824048]]\n"
     ]
    }
   ],
   "source": [
    "# membuat 2-d array atau matriks\n",
    "print(np.random.rand(2,2))\n",
    "print()\n",
    "print(np.random.rand(4,4))"
   ]
  },
  {
   "cell_type": "markdown",
   "metadata": {},
   "source": [
    "### randn\n",
    "Return array angka random dengan distribusi normal"
   ]
  },
  {
   "cell_type": "code",
   "execution_count": 39,
   "metadata": {},
   "outputs": [
    {
     "name": "stdout",
     "output_type": "stream",
     "text": [
      "[-0.70847633  1.34546414]\n",
      "[0.4433657  0.86717411 0.88473432 0.54419244]\n"
     ]
    }
   ],
   "source": [
    "print(np.random.randn(2))\n",
    "print(np.random.rand(4))"
   ]
  },
  {
   "cell_type": "code",
   "execution_count": 41,
   "metadata": {},
   "outputs": [
    {
     "name": "stdout",
     "output_type": "stream",
     "text": [
      "[[-1.34896295 -1.0956303 ]\n",
      " [-0.32547139  1.18677357]]\n",
      "\n",
      "[[-0.23944674 -0.53986642 -0.33339821]\n",
      " [ 0.08019011 -0.49108997 -1.44037665]\n",
      " [ 1.57622245 -1.22709047 -0.08247453]]\n"
     ]
    }
   ],
   "source": [
    "print(np.random.randn(2,2))\n",
    "print()\n",
    "print(np.random.randn(3,3))"
   ]
  },
  {
   "cell_type": "markdown",
   "metadata": {},
   "source": [
    "### randint\n",
    "Return random integer dari ```terkecil``` (inclusive) sampai ```terbesar``` (exclusive)"
   ]
  },
  {
   "cell_type": "code",
   "execution_count": 55,
   "metadata": {},
   "outputs": [
    {
     "name": "stdout",
     "output_type": "stream",
     "text": [
      "1\n",
      "1\n",
      "1\n",
      "2\n",
      "2\n",
      "2\n",
      "1\n",
      "1\n",
      "1\n",
      "1\n",
      "2\n",
      "2\n",
      "1\n",
      "1\n",
      "1\n",
      "1\n",
      "2\n",
      "2\n",
      "1\n",
      "1\n",
      "2\n",
      "1\n",
      "1\n",
      "1\n",
      "2\n",
      "1\n",
      "1\n",
      "2\n",
      "2\n",
      "1\n",
      "2\n",
      "1\n",
      "2\n",
      "1\n",
      "1\n",
      "1\n",
      "1\n",
      "1\n",
      "1\n",
      "1\n",
      "1\n",
      "1\n",
      "1\n",
      "1\n",
      "2\n",
      "2\n",
      "2\n",
      "1\n",
      "2\n",
      "2\n",
      "1\n",
      "2\n",
      "1\n",
      "2\n",
      "2\n",
      "2\n",
      "2\n",
      "1\n",
      "2\n",
      "1\n",
      "2\n",
      "2\n",
      "1\n",
      "2\n",
      "1\n",
      "2\n",
      "1\n",
      "1\n",
      "2\n",
      "2\n",
      "1\n",
      "1\n",
      "1\n",
      "1\n",
      "2\n",
      "1\n",
      "1\n",
      "2\n",
      "2\n",
      "2\n",
      "1\n",
      "2\n",
      "2\n",
      "1\n",
      "1\n",
      "2\n",
      "2\n",
      "1\n",
      "1\n",
      "2\n",
      "2\n",
      "1\n",
      "1\n",
      "1\n",
      "2\n",
      "2\n",
      "1\n",
      "1\n",
      "2\n",
      "2\n"
     ]
    }
   ],
   "source": [
    "for i in range(100):\n",
    "    print(np.random.randint(1,3))"
   ]
  },
  {
   "cell_type": "code",
   "execution_count": 57,
   "metadata": {},
   "outputs": [
    {
     "name": "stdout",
     "output_type": "stream",
     "text": [
      "[42 37 52 68 38]\n"
     ]
    }
   ],
   "source": [
    "# membuat array\n",
    "print(np.random.randint(1,100, 5))"
   ]
  },
  {
   "cell_type": "markdown",
   "metadata": {},
   "source": [
    "## Size and Shape attributes\n",
    "Mengetahui jumlah angka dan Ordo(baris x kolom) dari suatu array"
   ]
  },
  {
   "cell_type": "code",
   "execution_count": 60,
   "metadata": {},
   "outputs": [],
   "source": [
    "arr1 = np.array([1,2,3]) # vektor atau 1-d array\n",
    "arr2 = np.array([[1,2,3],\n",
    "                 [4,5,6]]) # matriks atau 2-d array\n",
    "arr3 = np.random.rand(50,50) # matriks\n",
    "arr4 = np.array([[1,2,3,4]]) # matriks\n",
    "arr5 = np.array([[1],\n",
    "                 [2],\n",
    "                 [3],\n",
    "                 [4]]) # matriks"
   ]
  },
  {
   "cell_type": "code",
   "execution_count": 68,
   "metadata": {},
   "outputs": [
    {
     "name": "stdout",
     "output_type": "stream",
     "text": [
      "array 1=[1 2 3]\n",
      "array 2=[[1 2 3]\n",
      " [4 5 6]]\n"
     ]
    }
   ],
   "source": [
    "print(f\"array 1={arr1}\\narray 2={arr2}\")"
   ]
  },
  {
   "cell_type": "code",
   "execution_count": 69,
   "metadata": {},
   "outputs": [
    {
     "name": "stdout",
     "output_type": "stream",
     "text": [
      "Ordo (baris, kolom) arr1 adalah (3,)\n",
      "Ordo (baris, kolom) arr2 adalah (2, 3)\n",
      "Ordo (baris, kolom) arr3 adalah (50, 50)\n",
      "Ordo (baris, kolom) arr4 adalah (1, 4)\n",
      "Ordo (baris, kolom) arr5 adalah (4, 1)\n"
     ]
    }
   ],
   "source": [
    "print(\"Ordo (baris, kolom) arr1 adalah {}\".format(arr1.shape))\n",
    "print(\"Ordo (baris, kolom) arr2 adalah {}\".format(arr2.shape))\n",
    "print(\"Ordo (baris, kolom) arr3 adalah {}\".format(arr3.shape))\n",
    "print(\"Ordo (baris, kolom) arr4 adalah {}\".format(arr4.shape))\n",
    "print(\"Ordo (baris, kolom) arr5 adalah {}\".format(arr5.shape))"
   ]
  },
  {
   "cell_type": "markdown",
   "metadata": {},
   "source": [
    "## Reshape\n",
    "Merubah ordo (baris x kolom) dari suatu array\n",
    "\n",
    "**PENTING**\n",
    "Untuk me-reshape suatu array, baris x kolom **HARUS** sama dengan jumlah elemen/angkanya.\n",
    "```row x column == array.size```\n",
    "\n",
    "Misal : \n",
    "Jika kita mempunyai sebuah array yang didalamnya ada 10 angka maka kita hanya bisa me-reshape array tersebut menjadi :\n",
    "- 1 x 10 (1 rows, 10 columns)\n",
    "- 10 x 1 (10 rows, 1 columns)\n",
    "- 5 x 2 (5 rows, 2 columns)\n",
    "- 2 x 5 (2 rows, 5 columns)"
   ]
  },
  {
   "cell_type": "code",
   "execution_count": 71,
   "metadata": {},
   "outputs": [],
   "source": [
    "arr1 = np.array([1,2,3]) # vektor atau 1-d array\n",
    "arr2 = np.array([[1,2,3],\n",
    "                 [4,5,6]]) # matriks atau 2-d array\n",
    "arr3 = np.random.rand(50,50) # matriks\n",
    "arr4 = np.array([[1,2,3,4]]) # matriks\n",
    "arr5 = np.array([[1],\n",
    "                 [2],\n",
    "                 [3],\n",
    "                 [4]]) # matriks"
   ]
  },
  {
   "cell_type": "code",
   "execution_count": 74,
   "metadata": {},
   "outputs": [],
   "source": [
    "# vektor dirubah menjadi matriks\n",
    "arr1 = arr1.reshape(1,3) \n",
    "# matriks diubah menjadi ordo atau bentuk yang berbeda\n",
    "arr2 = arr2.reshape(3,2) \n",
    "arr3 = arr3.reshape(10,250)\n",
    "arr4 = arr4.reshape(2,2)\n",
    "# mengubah matriks menjadi vektor\n",
    "arr5 = arr5.reshape(4,)"
   ]
  },
  {
   "cell_type": "code",
   "execution_count": 76,
   "metadata": {},
   "outputs": [
    {
     "name": "stdout",
     "output_type": "stream",
     "text": [
      "[[1 2 3]]\n",
      "\n",
      "[[1 2]\n",
      " [3 4]\n",
      " [5 6]]\n",
      "\n",
      "[[0.34820688 0.39677005 0.28403873 ... 0.03012083 0.10195341 0.93559176]\n",
      " [0.6992127  0.145547   0.79147323 ... 0.98818767 0.09058118 0.76737931]\n",
      " [0.16746642 0.6309022  0.31984294 ... 0.21696585 0.21776332 0.18648772]\n",
      " ...\n",
      " [0.40128483 0.1262334  0.77672499 ... 0.80210981 0.07896417 0.92298331]\n",
      " [0.67800108 0.27674677 0.01347048 ... 0.00217632 0.69625922 0.293608  ]\n",
      " [0.82478579 0.76875195 0.29744291 ... 0.48876717 0.8426923  0.03338945]]\n",
      "\n",
      "[[1 2]\n",
      " [3 4]]\n",
      "\n",
      "[1 2 3 4]\n"
     ]
    }
   ],
   "source": [
    "print(arr1)\n",
    "print()\n",
    "print(arr2)\n",
    "print()\n",
    "print(arr3)\n",
    "print()\n",
    "print(arr4)\n",
    "print()\n",
    "print(arr5)"
   ]
  },
  {
   "cell_type": "markdown",
   "metadata": {},
   "source": [
    "## dtype\n",
    "Mengetahui tipe data dari elemen yang ada di array"
   ]
  },
  {
   "cell_type": "code",
   "execution_count": 77,
   "metadata": {},
   "outputs": [
    {
     "name": "stdout",
     "output_type": "stream",
     "text": [
      "int32\n",
      "float64\n"
     ]
    }
   ],
   "source": [
    "print(arr1.dtype)\n",
    "print(arr3.dtype)"
   ]
  },
  {
   "cell_type": "markdown",
   "metadata": {},
   "source": [
    "## max, min, argmax, argmin method\n",
    "Max dan min digunakan untuk mengetahui angka terbesar atau terkecil dari sebuah array.\n",
    "\n",
    "argmax dan argmin digunakan untuk mengetahui **index** angka terbesar atau terkecil dari sebuah array."
   ]
  },
  {
   "cell_type": "code",
   "execution_count": 78,
   "metadata": {},
   "outputs": [
    {
     "name": "stdout",
     "output_type": "stream",
     "text": [
      "[[1 2 3]]\n"
     ]
    }
   ],
   "source": [
    "print(arr1)"
   ]
  },
  {
   "cell_type": "code",
   "execution_count": 81,
   "metadata": {},
   "outputs": [
    {
     "name": "stdout",
     "output_type": "stream",
     "text": [
      "Angka terbesar di arr1 adalah 3 di index ke 2\n",
      "Angka terkecil di arr1 adalah 1 di index ke 0\n"
     ]
    }
   ],
   "source": [
    "print(\"Angka terbesar di arr1 adalah {} di index ke {}\".format(arr1.max(),\n",
    "                                                               arr1.argmax()))\n",
    "print(\"Angka terkecil di arr1 adalah {} di index ke {}\".format(arr1.min(),\n",
    "                                                               arr1.argmin()))"
   ]
  },
  {
   "cell_type": "markdown",
   "metadata": {},
   "source": [
    "# GREAT JOB!"
   ]
  }
 ],
 "metadata": {
  "kernelspec": {
   "display_name": "Python 3",
   "language": "python",
   "name": "python3"
  },
  "language_info": {
   "codemirror_mode": {
    "name": "ipython",
    "version": 3
   },
   "file_extension": ".py",
   "mimetype": "text/x-python",
   "name": "python",
   "nbconvert_exporter": "python",
   "pygments_lexer": "ipython3",
   "version": "3.8.8"
  }
 },
 "nbformat": 4,
 "nbformat_minor": 4
}
